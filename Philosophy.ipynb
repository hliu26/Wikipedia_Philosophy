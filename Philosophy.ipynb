{
 "cells": [
  {
   "cell_type": "markdown",
   "metadata": {},
   "source": [
    "- Be able to grab the first hyper link of each wiki page\n",
    "- Clicking on the first non-parenthesized, non-italicized link\n",
    "- Ignoring external links, links to the current page, or red links (links to non-existent pages)\n",
    "- Stopping when reaching \"Philosophy\", a page with no links or a page that does not exist, or when a loop occurs"
   ]
  },
  {
   "cell_type": "markdown",
   "metadata": {},
   "source": [
    "if making a site: account for approximate names? to check for potential sites\n",
    "\n",
    "check for loops\n",
    "dead end sites\n",
    "\n",
    "\n",
    "goals: a distribution?\n",
    "a site for building a tree?\n",
    "clustering / classification?\n",
    "\n"
   ]
  },
  {
   "cell_type": "markdown",
   "metadata": {},
   "source": [
    "- Create a distribution and very population size?\n",
    "- cluster and classify? (K-clusters and how to group -> most prominent links)\n",
    "- is it possible to predict in what direction a page will branch?"
   ]
  },
  {
   "cell_type": "markdown",
   "metadata": {},
   "source": [
    "for testing:\n",
    "http://en.wikipedia.org/wiki/Special:Random"
   ]
  },
  {
   "cell_type": "code",
   "execution_count": 1,
   "metadata": {},
   "outputs": [],
   "source": [
    "wiki_link = {\n",
    "             \"pokemon\":\"https://en.wikipedia.org/wiki/Pok%C3%A9mon\",\n",
    "             \"tomcruise\" :\"https://en.wikipedia.org/wiki/Tom_Cruise\",\n",
    "             \"korean\":\"https://en.wikipedia.org/wiki/Korean_Wikipedia\",\n",
    "             \"popcorn\":\"https://en.wikipedia.org/wiki/Popcorn\",\n",
    "             \"religion\":'https://en.wikipedia.org/wiki/Importance_of_religion_by_country',\n",
    "             \"ygo\":\"https://en.wikipedia.org/wiki/Yu-Gi-Oh!\",\n",
    "             \"frank\":\"https://en.wikipedia.org/wiki/Frankenstein\",\n",
    "             \"foodwar\":\"https://en.wikipedia.org/wiki/Food_Wars!:_Shokugeki_no_Soma\",\n",
    "             \"disneystudio\":\"https://en.wikipedia.org/wiki/Walt_Disney_Pictures\",\n",
    "             \"knowledge\":\"https://en.wikipedia.org/wiki/Knowledge\",\n",
    "             \"phylotype\":\"https://en.wikipedia.org/wiki/Phylotype\"\n",
    "            }"
   ]
  },
  {
   "cell_type": "code",
   "execution_count": null,
   "metadata": {},
   "outputs": [],
   "source": []
  },
  {
   "cell_type": "code",
   "execution_count": 2,
   "metadata": {},
   "outputs": [],
   "source": [
    "from bs4 import BeautifulSoup\n",
    "from urllib.request import urlopen\n",
    "import urllib.request\n",
    "import urllib\n",
    "\n",
    "from PIL import Image\n",
    "from io import BytesIO"
   ]
  },
  {
   "cell_type": "code",
   "execution_count": 39,
   "metadata": {},
   "outputs": [],
   "source": [
    "class Page:\n",
    "    \n",
    "    wiki = 'https://en.wikipedia.org'\n",
    "    \n",
    "    end = \"https://en.wikipedia.org/wiki/Philosophy\"\n",
    "    \n",
    "    branches = 0\n",
    "    \n",
    "    def __init__(self, url):\n",
    "        self.url = url\n",
    "        self.soup = BeautifulSoup(urlopen(self.url))\n",
    "        self.title = self.soup.title.string\n",
    "        \n",
    "        try:\n",
    "            self.image = Image.open(BytesIO(urlopen(self.soup.find_all(\"meta\")[-1][\"content\"]).read()))\n",
    "        except:\n",
    "            self.image = None\n",
    "            \n",
    "    \n",
    "    def remove_parentheses(self, body_text):\n",
    "        \"\"\"converts body of text from BeautifulSoup Object into String\n",
    "        then takes the string and filters out all parenthesized strings/ links\n",
    "        and returns the filtered obj reconverted into BeautifulSoup obj\n",
    "        \"\"\"\n",
    "        \n",
    "        out = []\n",
    "        paren = False\n",
    "        for i in str(body_text).split(\" \"):\n",
    "    \n",
    "            if \"(\" in i and \"href\" not in i:\n",
    "                paren = True\n",
    "            if \")\" in i:\n",
    "                paren = False\n",
    "    \n",
    "            if not paren:\n",
    "                if \")\" not in i or \"href\" in i:\n",
    "                    out.append(i)\n",
    "\n",
    "        return BeautifulSoup(' '.join(out))\n",
    "            \n",
    "            \n",
    "    def all_links(self):\n",
    "        \"\"\"check_next takes a beautifulsoup object.\n",
    "        returns all links found in bodies of text (tags \"p\")\n",
    "        the result is a list wiki links in each body of text\n",
    "        \"\"\"\n",
    "        \n",
    "        res = []\n",
    "        for tags in self.soup.find(\"body\").find_all(\"p\"):\n",
    "            tags = self.remove_parentheses(tags)\n",
    "            if tags.find(\"a\") == None:\n",
    "                pass\n",
    "            else:\n",
    "                for links in tags.find_all('a'):\n",
    "                    try:\n",
    "                        if \"/wiki/\" in links[\"href\"]:\n",
    "                            res.append(links[\"href\"])\n",
    "                    except:\n",
    "                        pass\n",
    "        return res\n",
    "    \n",
    "    \n",
    "    def get_nexturl(self):\n",
    "        for link in self.all_links():\n",
    "            return self.wiki + link\n",
    "                \n",
    "    \n",
    "    def crawl(self):\n",
    "        \"\"\"Crawls from current wiki page to next.\n",
    "        \n",
    "        Should check for cycles and break if one occurs \n",
    "        \"\"\"\n",
    "        \n",
    "        #should Page class be nodes with .next (pointers?)\n",
    "        \n",
    "        visited = []\n",
    "        self.branches = 0\n",
    "        \n",
    "        print(self.title + \":\", self.url)\n",
    "        visited.append(self.url)\n",
    "        \n",
    "        next_link = self.get_nexturl()\n",
    "        \n",
    "        while next_link != self.end:\n",
    "            self.branches += 1\n",
    "            \n",
    "            temp_page = Page(next_link)\n",
    "            visited.append(next_link)\n",
    "            \n",
    "            print(temp_page.title + \":\", temp_page.url)\n",
    "            \n",
    "            next_link = temp_page.get_nexturl()\n",
    "            \n",
    "            if next_link in visited:\n",
    "                raise Exception(\"Cycle was discovered. \"+ next_link)\n",
    "            \n",
    "        self.branches += 1\n",
    "        print(\"\\033[1m Philosophy Reached! \\033[0m\", self.wiki+next_link)\n",
    "    \n"
   ]
  },
  {
   "cell_type": "code",
   "execution_count": 19,
   "metadata": {},
   "outputs": [
    {
     "name": "stdout",
     "output_type": "stream",
     "text": [
      "Pokémon - Wikipedia: https://en.wikipedia.org/wiki/Pok%C3%A9mon\n",
      "Multimedia franchise - Wikipedia: https://en.wikipedia.org/wiki/Media_franchise\n",
      "Media (communication) - Wikipedia: https://en.wikipedia.org/wiki/Media_(communication)\n",
      "Communication - Wikipedia: https://en.wikipedia.org/wiki/Communication\n",
      "Meaning (linguistics) - Wikipedia: https://en.wikipedia.org/wiki/Meaning_(linguistics)\n",
      "Linguistics - Wikipedia: https://en.wikipedia.org/wiki/Linguistics\n",
      "Science - Wikipedia: https://en.wikipedia.org/wiki/Science\n",
      "Knowledge - Wikipedia: https://en.wikipedia.org/wiki/Knowledge\n",
      "Experience - Wikipedia: https://en.wikipedia.org/wiki/Experience\n",
      "\u001b[1m Philosophy Reached! \u001b[0m https://en.wikipedia.org/wiki/Philosophy\n"
     ]
    }
   ],
   "source": [
    "pokemon = Page(\"https://en.wikipedia.org/wiki/Pok%C3%A9mon\")\n",
    "pokemon.crawl()\n",
    "#pokemon.all_links()"
   ]
  },
  {
   "cell_type": "code",
   "execution_count": 35,
   "metadata": {},
   "outputs": [
    {
     "name": "stdout",
     "output_type": "stream",
     "text": [
      "Experience - Wikipedia: https://en.wikipedia.org/wiki/Experience\n",
      "\u001b[1m Philosophy Reached! \u001b[0m https://en.wikipedia.orghttps://en.wikipedia.org/wiki/Philosophy\n"
     ]
    },
    {
     "data": {
      "text/plain": [
       "1"
      ]
     },
     "execution_count": 35,
     "metadata": {},
     "output_type": "execute_result"
    }
   ],
   "source": [
    "exp = Page(\"https://en.wikipedia.org/wiki/Experience\")\n",
    "exp.crawl()\n",
    "exp.branches"
   ]
  },
  {
   "cell_type": "code",
   "execution_count": 16,
   "metadata": {},
   "outputs": [
    {
     "name": "stdout",
     "output_type": "stream",
     "text": [
      "Food Wars!: Shokugeki no Soma - Wikipedia: https://en.wikipedia.org/wiki/Food_Wars!:_Shokugeki_no_Soma\n",
      "Shōnen manga - Wikipedia: https://en.wikipedia.org/wiki/Sh%C5%8Dnen_manga\n",
      "Manga - Wikipedia: https://en.wikipedia.org/wiki/Manga\n",
      "Comics - Wikipedia: https://en.wikipedia.org/wiki/Comics\n",
      "Media (communication) - Wikipedia: https://en.wikipedia.org/wiki/Media_(communication)\n",
      "Communication - Wikipedia: https://en.wikipedia.org/wiki/Communication\n",
      "Meaning (linguistics) - Wikipedia: https://en.wikipedia.org/wiki/Meaning_(linguistics)\n",
      "Linguistics - Wikipedia: https://en.wikipedia.org/wiki/Linguistics\n",
      "Science - Wikipedia: https://en.wikipedia.org/wiki/Science\n",
      "Knowledge - Wikipedia: https://en.wikipedia.org/wiki/Knowledge\n",
      "Experience - Wikipedia: https://en.wikipedia.org/wiki/Experience\n",
      "\u001b[1m Philosophy Reached! \u001b[0m https://en.wikipedia.org/wiki/Philosophy\n"
     ]
    }
   ],
   "source": [
    "foodwar = Page(\"https://en.wikipedia.org/wiki/Food_Wars!:_Shokugeki_no_Soma\")\n",
    "foodwar.crawl()"
   ]
  },
  {
   "cell_type": "code",
   "execution_count": 40,
   "metadata": {},
   "outputs": [
    {
     "name": "stdout",
     "output_type": "stream",
     "text": [
      "Tom Cruise - Wikipedia: https://en.wikipedia.org/wiki/Tom_Cruise\n",
      "List of awards and nominations received by Tom Cruise - Wikipedia: https://en.wikipedia.org/wiki/List_of_awards_and_nominations_received_by_Tom_Cruise\n"
     ]
    },
    {
     "ename": "Exception",
     "evalue": "Cycle was discovered. https://en.wikipedia.org/wiki/Tom_Cruise",
     "output_type": "error",
     "traceback": [
      "\u001b[0;31m---------------------------------------------------------------------------\u001b[0m",
      "\u001b[0;31mException\u001b[0m                                 Traceback (most recent call last)",
      "\u001b[0;32m<ipython-input-40-551b7dca34f3>\u001b[0m in \u001b[0;36m<module>\u001b[0;34m\u001b[0m\n\u001b[1;32m      1\u001b[0m \u001b[0;31m#cycles and check for cycles\u001b[0m\u001b[0;34m\u001b[0m\u001b[0;34m\u001b[0m\u001b[0;34m\u001b[0m\u001b[0m\n\u001b[1;32m      2\u001b[0m \u001b[0mtomcruise\u001b[0m \u001b[0;34m=\u001b[0m \u001b[0mPage\u001b[0m\u001b[0;34m(\u001b[0m\u001b[0;34m\"https://en.wikipedia.org/wiki/Tom_Cruise\"\u001b[0m\u001b[0;34m)\u001b[0m\u001b[0;34m\u001b[0m\u001b[0;34m\u001b[0m\u001b[0m\n\u001b[0;32m----> 3\u001b[0;31m \u001b[0mtomcruise\u001b[0m\u001b[0;34m.\u001b[0m\u001b[0mcrawl\u001b[0m\u001b[0;34m(\u001b[0m\u001b[0;34m)\u001b[0m\u001b[0;34m\u001b[0m\u001b[0;34m\u001b[0m\u001b[0m\n\u001b[0m",
      "\u001b[0;32m<ipython-input-39-4ee5ce3aa073>\u001b[0m in \u001b[0;36mcrawl\u001b[0;34m(self)\u001b[0m\n\u001b[1;32m     93\u001b[0m                 \u001b[0;31m#print(next_link)\u001b[0m\u001b[0;34m\u001b[0m\u001b[0;34m\u001b[0m\u001b[0;34m\u001b[0m\u001b[0m\n\u001b[1;32m     94\u001b[0m                 \u001b[0;31m#print(visited)\u001b[0m\u001b[0;34m\u001b[0m\u001b[0;34m\u001b[0m\u001b[0;34m\u001b[0m\u001b[0m\n\u001b[0;32m---> 95\u001b[0;31m                 \u001b[0;32mraise\u001b[0m \u001b[0mException\u001b[0m\u001b[0;34m(\u001b[0m\u001b[0;34m\"Cycle was discovered. \"\u001b[0m\u001b[0;34m+\u001b[0m \u001b[0mnext_link\u001b[0m\u001b[0;34m)\u001b[0m\u001b[0;34m\u001b[0m\u001b[0;34m\u001b[0m\u001b[0m\n\u001b[0m\u001b[1;32m     96\u001b[0m \u001b[0;34m\u001b[0m\u001b[0m\n\u001b[1;32m     97\u001b[0m         \u001b[0mself\u001b[0m\u001b[0;34m.\u001b[0m\u001b[0mbranches\u001b[0m \u001b[0;34m+=\u001b[0m \u001b[0;36m1\u001b[0m\u001b[0;34m\u001b[0m\u001b[0;34m\u001b[0m\u001b[0m\n",
      "\u001b[0;31mException\u001b[0m: Cycle was discovered. https://en.wikipedia.org/wiki/Tom_Cruise"
     ]
    }
   ],
   "source": [
    "#cycles and check for cycles\n",
    "tomcruise = Page(\"https://en.wikipedia.org/wiki/Tom_Cruise\")\n",
    "tomcruise.crawl()"
   ]
  },
  {
   "cell_type": "code",
   "execution_count": 13,
   "metadata": {},
   "outputs": [
    {
     "name": "stdout",
     "output_type": "stream",
     "text": [
      "Importance of religion by country - Wikipedia: https://en.wikipedia.org/wiki/Importance_of_religion_by_country\n",
      "Gallup (company) - Wikipedia: https://en.wikipedia.org/wiki/Gallup_Poll\n",
      "Washington, D.C. - Wikipedia: https://en.wikipedia.org/wiki/Washington,_D.C.\n",
      "Capital city - Wikipedia: https://en.wikipedia.org/wiki/Capital_city\n",
      "Municipality - Wikipedia: https://en.wikipedia.org/wiki/Municipality\n",
      "Administrative division - Wikipedia: https://en.wikipedia.org/wiki/Administrative_division\n",
      "Country - Wikipedia: https://en.wikipedia.org/wiki/Country\n",
      "Birth - Wikipedia: https://en.wikipedia.org/wiki/Birth\n",
      "Offspring - Wikipedia: https://en.wikipedia.org/wiki/Offspring\n",
      "Biology - Wikipedia: https://en.wikipedia.org/wiki/Biology\n",
      "Natural science - Wikipedia: https://en.wikipedia.org/wiki/Natural_science\n",
      "Branches of science - Wikipedia: https://en.wikipedia.org/wiki/Branches_of_science\n",
      "Science - Wikipedia: https://en.wikipedia.org/wiki/Science\n",
      "Knowledge - Wikipedia: https://en.wikipedia.org/wiki/Knowledge\n",
      "Experience - Wikipedia: https://en.wikipedia.org/wiki/Experience\n",
      "\u001b[1m Philosophy Reached! \u001b[0m https://en.wikipedia.org/wiki/Philosophy\n"
     ]
    }
   ],
   "source": [
    "religion = Page(wiki_link[\"religion\"])\n",
    "religion.crawl()\n",
    "#after country should be birth? why did we go to sovereign state?"
   ]
  },
  {
   "cell_type": "code",
   "execution_count": 191,
   "metadata": {},
   "outputs": [],
   "source": []
  }
 ],
 "metadata": {
  "kernelspec": {
   "display_name": "Python 3",
   "language": "python",
   "name": "python3"
  },
  "language_info": {
   "codemirror_mode": {
    "name": "ipython",
    "version": 3
   },
   "file_extension": ".py",
   "mimetype": "text/x-python",
   "name": "python",
   "nbconvert_exporter": "python",
   "pygments_lexer": "ipython3",
   "version": "3.7.3"
  }
 },
 "nbformat": 4,
 "nbformat_minor": 4
}
